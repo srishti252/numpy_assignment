{
 "cells": [
  {
   "cell_type": "code",
   "execution_count": 1,
   "id": "1047809f-2e50-4368-90da-d5c85278171a",
   "metadata": {},
   "outputs": [
    {
     "name": "stdout",
     "output_type": "stream",
     "text": [
      "1:\n",
      " [[ 1  2  3  4  5]\n",
      " [ 6  7  8  9 10]\n",
      " [11 12 13 14 15]\n",
      " [16 17 18 19 20]\n",
      " [21 22 23 24 25]]\n"
     ]
    }
   ],
   "source": [
    "# 1. Create 5×5 matrix with values 1–25\n",
    "import numpy as np\n",
    "mat = np.arange(1, 26).reshape(5, 5)\n",
    "print(\"1:\\n\", mat)\n"
   ]
  },
  {
   "cell_type": "code",
   "execution_count": 2,
   "id": "239a9764-d41a-406f-9246-a6a269362c0f",
   "metadata": {},
   "outputs": [
    {
     "name": "stdout",
     "output_type": "stream",
     "text": [
      "2:\n",
      " [[1. 0. 0. 0.]\n",
      " [0. 1. 0. 0.]\n",
      " [0. 0. 1. 0.]\n",
      " [0. 0. 0. 1.]]\n"
     ]
    }
   ],
   "source": [
    "# 2. 4×4 Identity matrix\n",
    "import numpy as np\n",
    "identity = np.eye(4)\n",
    "print(\"2:\\n\", identity)\n"
   ]
  },
  {
   "cell_type": "code",
   "execution_count": 3,
   "id": "a908725c-7077-46a7-83e0-1b878e25022f",
   "metadata": {},
   "outputs": [
    {
     "name": "stdout",
     "output_type": "stream",
     "text": [
      "3: [100 110 120 130 140 150 160 170 180 190 200]\n"
     ]
    }
   ],
   "source": [
    "# 3. 1D array from 100 to 200 with step 10\n",
    "import numpy as np\n",
    "arr = np.arange(100, 201, 10)\n",
    "print(\"3:\", arr)"
   ]
  },
  {
   "cell_type": "code",
   "execution_count": 4,
   "id": "a01024f7-0797-44b1-83fc-357c5bd5fab5",
   "metadata": {},
   "outputs": [
    {
     "name": "stdout",
     "output_type": "stream",
     "text": [
      "4 determinant: 0.014046022918650864\n"
     ]
    }
   ],
   "source": [
    "# 4. Random 3×3 matrix determinant\n",
    "import numpy as np\n",
    "mat = np.random.rand(3, 3)\n",
    "det = np.linalg.det(mat)\n",
    "print(\"4 determinant:\", det)"
   ]
  },
  {
   "cell_type": "code",
   "execution_count": 5,
   "id": "20356b7a-f1ee-471e-825b-88b4c02b0959",
   "metadata": {},
   "outputs": [
    {
     "name": "stdout",
     "output_type": "stream",
     "text": [
      "5: [ 13  56  46  57 100  70  82  55  16  95]\n"
     ]
    }
   ],
   "source": [
    "# 5. 10 random integers between 1 and 100\n",
    "import numpy as np\n",
    "rand_ints = np.random.randint(1, 101, 10)\n",
    "print(\"5:\", rand_ints)"
   ]
  },
  {
   "cell_type": "code",
   "execution_count": 6,
   "id": "66071b9f-7b77-4a74-918a-7097afae951a",
   "metadata": {},
   "outputs": [
    {
     "name": "stdout",
     "output_type": "stream",
     "text": [
      "6:\n",
      " [[ 0  1  2  3]\n",
      " [ 4  5  6  7]\n",
      " [ 8  9 10 11]]\n"
     ]
    }
   ],
   "source": [
    "# 6. Reshape 1D array size 12 → 3×4 matrix\n",
    "import numpy as np\n",
    "arr = np.arange(12)\n",
    "reshaped = arr.reshape(3, 4)\n",
    "print(\"6:\\n\", reshaped)"
   ]
  },
  {
   "cell_type": "code",
   "execution_count": 7,
   "id": "1fd59c21-cd4e-42e9-801b-ddf7b77bf9d7",
   "metadata": {},
   "outputs": [
    {
     "name": "stdout",
     "output_type": "stream",
     "text": [
      "7:\n",
      " [[ 30  24  18]\n",
      " [ 84  69  54]\n",
      " [138 114  90]]\n"
     ]
    }
   ],
   "source": [
    "# 7. Multiply two 3×3 matrices\n",
    "import numpy as np\n",
    "a = np.array([[1,2,3],[4,5,6],[7,8,9]])\n",
    "b = np.array([[9,8,7],[6,5,4],[3,2,1]])\n",
    "print(\"7:\\n\", np.matmul(a, b))\n"
   ]
  },
  {
   "cell_type": "code",
   "execution_count": 8,
   "id": "f5348c8b-6e88-424a-8cd6-c992fe8a7fbd",
   "metadata": {},
   "outputs": [
    {
     "name": "stdout",
     "output_type": "stream",
     "text": [
      "8 eigenvalues: [5. 2.]\n",
      "8 eigenvectors:\n",
      " [[ 0.89442719 -0.70710678]\n",
      " [ 0.4472136   0.70710678]]\n"
     ]
    }
   ],
   "source": [
    "# 8. Eigenvalues & Eigenvectors of 2×2 matrix\n",
    "import numpy as np\n",
    "mat = np.array([[4, 2], [1, 3]])\n",
    "vals, vecs = np.linalg.eig(mat)\n",
    "print(\"8 eigenvalues:\", vals)\n",
    "print(\"8 eigenvectors:\\n\", vecs)"
   ]
  },
  {
   "cell_type": "code",
   "execution_count": 9,
   "id": "62b1d777-373e-4f85-b76a-ae27ece21535",
   "metadata": {},
   "outputs": [
    {
     "name": "stdout",
     "output_type": "stream",
     "text": [
      "9 diagonal: [0.90631689 0.36043895 0.64394438 0.47317608 0.91343275]\n"
     ]
    }
   ],
   "source": [
    "# 9. 5×5 random matrix, extract diagonal\n",
    "import numpy as np\n",
    "mat = np.random.rand(5, 5)\n",
    "print(\"9 diagonal:\", np.diag(mat))\n"
   ]
  },
  {
   "cell_type": "code",
   "execution_count": 10,
   "id": "6c3ae1a8-a65d-4ee9-8ac1-04dab561ebb4",
   "metadata": {},
   "outputs": [
    {
     "name": "stdout",
     "output_type": "stream",
     "text": [
      "10: [0.   0.25 0.5  0.75 1.  ]\n"
     ]
    }
   ],
   "source": [
    "# 10. Normalize 1D array\n",
    "import numpy as np\n",
    "arr = np.array([10, 20, 30, 40, 50])\n",
    "norm = (arr - arr.min()) / (arr.max() - arr.min())\n",
    "print(\"10:\", norm)\n"
   ]
  },
  {
   "cell_type": "code",
   "execution_count": 11,
   "id": "0f59dcb6-50a2-407b-b8a4-eff18c75116f",
   "metadata": {},
   "outputs": [
    {
     "name": "stdout",
     "output_type": "stream",
     "text": [
      "11 row sort:\n",
      " [[2 7 9]\n",
      " [1 4 6]\n",
      " [3 5 8]]\n",
      "11 col sort:\n",
      " [[3 2 1]\n",
      " [4 6 5]\n",
      " [9 8 7]]\n"
     ]
    }
   ],
   "source": [
    "# 11. Sort array by row & column\n",
    "import numpy as np\n",
    "mat = np.array([[9,2,7],[4,6,1],[3,8,5]])\n",
    "print(\"11 row sort:\\n\", np.sort(mat, axis=1))\n",
    "print(\"11 col sort:\\n\", np.sort(mat, axis=0))"
   ]
  },
  {
   "cell_type": "code",
   "execution_count": 12,
   "id": "fd351e4a-7675-44f2-96fc-961e525b57b2",
   "metadata": {},
   "outputs": [
    {
     "name": "stdout",
     "output_type": "stream",
     "text": [
      "12 max index: 3\n",
      "12 min index: 2\n"
     ]
    }
   ],
   "source": [
    "# 12. Indices of max and min values\n",
    "import numpy as np\n",
    "arr = np.array([10, 25, 5, 30, 15])\n",
    "print(\"12 max index:\", np.argmax(arr))\n",
    "print(\"12 min index:\", np.argmin(arr))"
   ]
  },
  {
   "cell_type": "code",
   "execution_count": 13,
   "id": "eacc9dee-72f7-453d-95b6-7c31a9799b95",
   "metadata": {},
   "outputs": [
    {
     "name": "stdout",
     "output_type": "stream",
     "text": [
      "13 ravel: [1 2 3 4 5 6]\n",
      "13 flatten: [1 2 3 4 5 6]\n"
     ]
    }
   ],
   "source": [
    "\n",
    "# 13. Flatten 2D array using ravel & flatten\n",
    "import numpy as np\n",
    "mat = np.array([[1,2,3],[4,5,6]])\n",
    "print(\"13 ravel:\", mat.ravel())\n",
    "print(\"13 flatten:\", mat.flatten())"
   ]
  },
  {
   "cell_type": "code",
   "execution_count": 14,
   "id": "e9535e58-ad90-49f0-954b-1c448f2cd47c",
   "metadata": {},
   "outputs": [
    {
     "name": "stdout",
     "output_type": "stream",
     "text": [
      "14 inverse:\n",
      " [[-24.  18.   5.]\n",
      " [ 20. -15.  -4.]\n",
      " [ -5.   4.   1.]]\n"
     ]
    }
   ],
   "source": [
    "# 14. Inverse of 3×3 matrix\n",
    "import numpy as np\n",
    "mat = np.array([[1,2,3],[0,1,4],[5,6,0]])\n",
    "inv = np.linalg.inv(mat)\n",
    "print(\"14 inverse:\\n\", inv)"
   ]
  },
  {
   "cell_type": "code",
   "execution_count": 15,
   "id": "917c506a-a6c0-4292-be3b-976f1d394cd5",
   "metadata": {},
   "outputs": [
    {
     "name": "stdout",
     "output_type": "stream",
     "text": [
      "15: [ 3  2 10  1  4  5  8  7  6  9]\n"
     ]
    }
   ],
   "source": [
    "# 15. Random permutation of numbers 1–10\n",
    "import numpy as np\n",
    "perm = np.random.permutation(np.arange(1, 11))\n",
    "print(\"15:\", perm)"
   ]
  },
  {
   "cell_type": "code",
   "execution_count": 16,
   "id": "b3beaf61-3967-44d5-9ee3-1c50efce06b7",
   "metadata": {},
   "outputs": [
    {
     "name": "stdout",
     "output_type": "stream",
     "text": [
      "1: [-1  1 -1  3 -1  5 -1  7 -1  9 -1 11 -1 13 -1 15 -1 17 -1 19 -1]\n"
     ]
    }
   ],
   "source": [
    "# 16. Array from 0 to 20, replace even numbers with -1\n",
    "import numpy as np\n",
    "arr = np.arange(21)\n",
    "arr[arr % 2 == 0] = -1\n",
    "print(\"1:\", arr)\n"
   ]
  },
  {
   "cell_type": "code",
   "execution_count": 17,
   "id": "de93a016-e803-4f2f-9ac7-1df134c26f6f",
   "metadata": {},
   "outputs": [
    {
     "name": "stdout",
     "output_type": "stream",
     "text": [
      "2: 32\n"
     ]
    }
   ],
   "source": [
    "# 17. Dot product of two arrays\n",
    "import numpy as np\n",
    "a = np.array([1, 2, 3])\n",
    "b = np.array([4, 5, 6])\n",
    "print(\"2:\", np.dot(a, b))\n"
   ]
  },
  {
   "cell_type": "code",
   "execution_count": 18,
   "id": "d0061208-30c9-443e-85c3-5daaae849700",
   "metadata": {},
   "outputs": [
    {
     "name": "stdout",
     "output_type": "stream",
     "text": [
      "3:\n",
      " [[7 5 1 5 3]\n",
      " [5 3 3 6 1]\n",
      " [3 7 7 1 1]\n",
      " [9 7 6 7 3]\n",
      " [7 5 7 7 6]] \n",
      "Trace: 30\n"
     ]
    }
   ],
   "source": [
    "# 18. 5×5 random matrix trace\n",
    "import numpy as np\n",
    "mat = np.random.randint(1, 10, (5, 5))\n",
    "print(\"3:\\n\", mat, \"\\nTrace:\", np.trace(mat))"
   ]
  },
  {
   "cell_type": "code",
   "execution_count": 19,
   "id": "984e81b2-aafa-4338-b813-12868f2bb085",
   "metadata": {},
   "outputs": [
    {
     "name": "stdout",
     "output_type": "stream",
     "text": [
      "4: [array([16, 17, 18]), array([19, 20, 21]), array([22, 23, 24])]\n"
     ]
    }
   ],
   "source": [
    "# 19. Split 1D array (from 16) into 3 equal parts\n",
    "import numpy as np\n",
    "arr = np.arange(16, 25)  # 9 numbers\n",
    "print(\"4:\", np.split(arr, 3))"
   ]
  },
  {
   "cell_type": "code",
   "execution_count": 20,
   "id": "c6d453ac-0c6f-4370-a80b-f29f46b2b02f",
   "metadata": {},
   "outputs": [
    {
     "name": "stdout",
     "output_type": "stream",
     "text": [
      "5:\n",
      " [[[1 3 9]\n",
      "  [8 7 2]\n",
      "  [2 1 6]]\n",
      "\n",
      " [[5 5 3]\n",
      "  [4 7 1]\n",
      "  [1 5 9]]\n",
      "\n",
      " [[6 2 4]\n",
      "  [3 3 3]\n",
      "  [4 4 9]]] \n",
      "Mean along axis 0:\n",
      " [[4.         3.33333333 5.33333333]\n",
      " [5.         5.66666667 2.        ]\n",
      " [2.33333333 3.33333333 8.        ]]\n"
     ]
    }
   ],
   "source": [
    "# 20. 3D array mean across axis=0\n",
    "import numpy as np\n",
    "arr3d = np.random.randint(1, 10, (3, 3, 3))\n",
    "print(\"5:\\n\", arr3d, \"\\nMean along axis 0:\\n\", arr3d.mean(axis=0))"
   ]
  },
  {
   "cell_type": "code",
   "execution_count": 21,
   "id": "43572599-5201-46ca-b3f9-40d69ea837f6",
   "metadata": {},
   "outputs": [
    {
     "name": "stdout",
     "output_type": "stream",
     "text": [
      "6: [ 1  3  6 10 15]\n"
     ]
    }
   ],
   "source": [
    "# 21. Cumulative sum\n",
    "import numpy as np\n",
    "arr = np.array([1, 2, 3, 4, 5])\n",
    "print(\"6:\", np.cumsum(arr))\n"
   ]
  },
  {
   "cell_type": "code",
   "execution_count": 22,
   "id": "1cb8cca2-a3dd-4937-8d22-338c16576fb4",
   "metadata": {},
   "outputs": [
    {
     "name": "stdout",
     "output_type": "stream",
     "text": [
      "7:\n",
      " [[8 8 2 9]\n",
      " [3 8 5 3]\n",
      " [6 2 6 5]\n",
      " [1 5 8 9]] \n",
      "Upper Triangular:\n",
      " [[8 8 2 9]\n",
      " [0 8 5 3]\n",
      " [0 0 6 5]\n",
      " [0 0 0 9]]\n"
     ]
    }
   ],
   "source": [
    "# 22. Upper triangular of 4×4 random matrix\n",
    "import numpy as np\n",
    "mat = np.random.randint(1, 10, (4, 4))\n",
    "print(\"7:\\n\", mat, \"\\nUpper Triangular:\\n\", np.triu(mat))"
   ]
  },
  {
   "cell_type": "code",
   "execution_count": 23,
   "id": "b9c32772-d277-4cb0-af63-5e76aaa3c7d7",
   "metadata": {},
   "outputs": [
    {
     "name": "stdout",
     "output_type": "stream",
     "text": [
      "8:\n",
      " [[0 1 0 1 0 1]\n",
      " [1 0 1 0 1 0]\n",
      " [0 1 0 1 0 1]\n",
      " [1 0 1 0 1 0]\n",
      " [0 1 0 1 0 1]\n",
      " [1 0 1 0 1 0]]\n"
     ]
    }
   ],
   "source": [
    "# 23. 6×6 checkerboard pattern\n",
    "import numpy as np\n",
    "checker = np.indices((6, 6)).sum(axis=0) % 2\n",
    "print(\"8:\\n\", checker)"
   ]
  },
  {
   "cell_type": "code",
   "execution_count": 24,
   "id": "c78f898c-8dc6-4b49-82b4-ebc3abd45e70",
   "metadata": {},
   "outputs": [
    {
     "name": "stdout",
     "output_type": "stream",
     "text": [
      "9:\n",
      " [[3 6 8]\n",
      " [9 4 2]\n",
      " [2 4 8]] \n",
      "Sqrt:\n",
      " [[1.73205081 2.44948974 2.82842712]\n",
      " [3.         2.         1.41421356]\n",
      " [1.41421356 2.         2.82842712]]\n"
     ]
    }
   ],
   "source": [
    "# 24. 3×3 random matrix element-wise sqrt\n",
    "mat = np.random.randint(1, 10, (3, 3))\n",
    "print(\"9:\\n\", mat, \"\\nSqrt:\\n\", np.sqrt(mat))\n"
   ]
  },
  {
   "cell_type": "code",
   "execution_count": 25,
   "id": "cf6e0654-2bf8-4151-9a78-afcd3657cd5b",
   "metadata": {},
   "outputs": [
    {
     "name": "stdout",
     "output_type": "stream",
     "text": [
      "10: [19 18 17 16 15 14 13 12 11 10  9  8  7  6  5  4  3  2  1  0]\n"
     ]
    }
   ],
   "source": [
    "# 25. Reverse 1D array of 20 elements (no slicing)\n",
    "import numpy as np\n",
    "arr = np.arange(20)\n",
    "print(\"10:\", np.flip(arr))\n"
   ]
  },
  {
   "cell_type": "code",
   "execution_count": 26,
   "id": "cd4f7665-5913-4a5f-ade7-4b04e1afe18c",
   "metadata": {},
   "outputs": [
    {
     "name": "stdout",
     "output_type": "stream",
     "text": [
      "11 Vertical:\n",
      " [[1 2]\n",
      " [3 4]\n",
      " [5 6]\n",
      " [7 8]]\n",
      "11 Horizontal:\n",
      " [[1 2 5 6]\n",
      " [3 4 7 8]]\n"
     ]
    }
   ],
   "source": [
    "# 26. Merge arrays vertically and horizontally\n",
    "import numpy as np\n",
    "a = np.array([[1, 2], [3, 4]])\n",
    "b = np.array([[5, 6], [7, 8]])\n",
    "print(\"11 Vertical:\\n\", np.vstack((a, b)))\n",
    "print(\"11 Horizontal:\\n\", np.hstack((a, b)))\n"
   ]
  },
  {
   "cell_type": "code",
   "execution_count": 27,
   "id": "d1472525-db34-48e1-bce3-5014c5fb22ca",
   "metadata": {},
   "outputs": [
    {
     "name": "stdout",
     "output_type": "stream",
     "text": [
      "12 Row sum: [ 6 15]\n",
      "12 Column sum: [5 7 9]\n"
     ]
    }
   ],
   "source": [
    "# 27. Row-wise and column-wise sum\n",
    "import numpy as np\n",
    "arr = np.array([[1, 2, 3], [4, 5, 6]])\n",
    "print(\"12 Row sum:\", arr.sum(axis=1))\n",
    "print(\"12 Column sum:\", arr.sum(axis=0))\n"
   ]
  },
  {
   "cell_type": "code",
   "execution_count": 28,
   "id": "cfbd4b74-c566-471d-b1ec-bc32c9d86234",
   "metadata": {},
   "outputs": [
    {
     "name": "stdout",
     "output_type": "stream",
     "text": [
      "13:\n",
      " [[1. 5. 3.]\n",
      " [4. 5. 3.]]\n"
     ]
    }
   ],
   "source": [
    "# 28. Replace NaN with column mean\n",
    "import numpy as np\n",
    "arr = np.array([[1, np.nan, 3], [4, 5, np.nan]])\n",
    "col_mean = np.nanmean(arr, axis=0)\n",
    "inds = np.where(np.isnan(arr))\n",
    "arr[inds] = np.take(col_mean, inds[1])\n",
    "print(\"13:\\n\", arr)"
   ]
  },
  {
   "cell_type": "code",
   "execution_count": 29,
   "id": "ea6ac4da-baaf-4de7-81c4-134761d173c8",
   "metadata": {},
   "outputs": [
    {
     "name": "stdout",
     "output_type": "stream",
     "text": [
      "14: 0.9746318461970762\n"
     ]
    }
   ],
   "source": [
    "# 29. Cosine similarity\n",
    "import numpy as np\n",
    "a = np.array([1, 2, 3])\n",
    "b = np.array([4, 5, 6])\n",
    "cos_sim = np.dot(a, b) / (np.linalg.norm(a) * np.linalg.norm(b))\n",
    "print(\"14:\", cos_sim)\n"
   ]
  },
  {
   "cell_type": "code",
   "execution_count": 30,
   "id": "4c4d80b7-177a-4d9c-b136-3f704f83277b",
   "metadata": {},
   "outputs": [
    {
     "name": "stdout",
     "output_type": "stream",
     "text": [
      "15 Original:\n",
      " [[ 0  1  2  3]\n",
      " [ 4  5  6  7]\n",
      " [ 8  9 10 11]\n",
      " [12 13 14 15]]\n",
      "15 Rotated:\n",
      " [[ 3  7 11 15]\n",
      " [ 2  6 10 14]\n",
      " [ 1  5  9 13]\n",
      " [ 0  4  8 12]]\n"
     ]
    }
   ],
   "source": [
    "# 30. Rotate 4×4 array by 90 degrees\n",
    "import numpy as np\n",
    "arr = np.arange(16).reshape(4, 4)\n",
    "print(\"15 Original:\\n\", arr)\n",
    "print(\"15 Rotated:\\n\", np.rot90(arr))\n"
   ]
  },
  {
   "cell_type": "code",
   "execution_count": 31,
   "id": "d7d97485-f6b8-44c1-bcbd-ac1807a57a90",
   "metadata": {},
   "outputs": [
    {
     "name": "stdout",
     "output_type": "stream",
     "text": [
      "16: [('Alice', 20, 85) ('Bob', 21, 90)]\n"
     ]
    }
   ],
   "source": [
    "# 31. Structured array (name, age, marks)\n",
    "import numpy as np\n",
    "data = np.array([('Alice', 20, 85), ('Bob', 21, 90)],\n",
    "                dtype=[('name', 'U10'), ('age', 'i4'), ('marks', 'i4')])\n",
    "print(\"16:\", data)"
   ]
  },
  {
   "cell_type": "code",
   "execution_count": 32,
   "id": "2e633202-0c6a-4494-971b-3b080fa79961",
   "metadata": {},
   "outputs": [
    {
     "name": "stdout",
     "output_type": "stream",
     "text": [
      "17 Matrix:\n",
      " [[5 9 4]\n",
      " [8 3 4]\n",
      " [1 4 2]] \n",
      "Rank: 3\n"
     ]
    }
   ],
   "source": [
    "# 32. Rank of 3×3 random matrix\n",
    "import numpy as np\n",
    "mat = np.random.randint(1, 10, (3, 3))\n",
    "print(\"17 Matrix:\\n\", mat, \"\\nRank:\", np.linalg.matrix_rank(mat))"
   ]
  },
  {
   "cell_type": "code",
   "execution_count": 33,
   "id": "4018e1ef-3333-46b1-a75b-c442c905e80a",
   "metadata": {},
   "outputs": [
    {
     "name": "stdout",
     "output_type": "stream",
     "text": [
      "18:\n",
      " [[0.52827054 0.35218036 0.70436073 0.17609018 0.26413527]\n",
      " [0.55874424 0.34921515 0.55874424 0.41905818 0.27937212]\n",
      " [0.37573457 0.50097943 0.438357   0.31311215 0.56360186]\n",
      " [0.46056619 0.59215653 0.46056619 0.39477102 0.26318068]\n",
      " [0.82078268 0.10259784 0.10259784 0.51298918 0.20519567]]\n"
     ]
    }
   ],
   "source": [
    "# 33. Normalize rows of 5×5 matrix\n",
    "import numpy as np\n",
    "mat = np.random.randint(1, 10, (5, 5))\n",
    "normed = mat / np.linalg.norm(mat, axis=1, keepdims=True)\n",
    "print(\"18:\\n\", normed)"
   ]
  },
  {
   "cell_type": "code",
   "execution_count": 34,
   "id": "5af4ce3d-1686-4e59-bb19-3454bd1e8056",
   "metadata": {},
   "outputs": [
    {
     "name": "stdout",
     "output_type": "stream",
     "text": [
      "19: False\n"
     ]
    }
   ],
   "source": [
    "# 34. Check if arrays equal element-wise\n",
    "import numpy as np\n",
    "a = np.array([1, 2, 3])\n",
    "b = np.array([1, 2, 4])\n",
    "print(\"19:\", np.array_equal(a, b))"
   ]
  },
  {
   "cell_type": "code",
   "execution_count": 35,
   "id": "05a87a41-51f3-47e9-8113-0dd96fcd3c66",
   "metadata": {},
   "outputs": [
    {
     "name": "stdout",
     "output_type": "stream",
     "text": [
      "20 Histogram: [  8  29  92 152 208 224 179  80  24   4]\n",
      "20 Bins: [-3.0394925  -2.44203686 -1.84458123 -1.24712559 -0.64966995 -0.05221432\n",
      "  0.54524132  1.14269696  1.7401526   2.33760823  2.93506387]\n"
     ]
    }
   ],
   "source": [
    "# 35. Histogram of 1000 random numbers\n",
    "import numpy as np\n",
    "data = np.random.randn(1000)\n",
    "hist, bins = np.histogram(data, bins=10)\n",
    "print(\"20 Histogram:\", hist)\n",
    "print(\"20 Bins:\", bins)\n"
   ]
  },
  {
   "cell_type": "code",
   "execution_count": 36,
   "id": "79943ca7-3c69-42ca-8322-6d6be0dad83b",
   "metadata": {},
   "outputs": [
    {
     "name": "stdout",
     "output_type": "stream",
     "text": [
      "21:\n",
      " [[11 22 33]\n",
      " [14 25 36]]\n"
     ]
    }
   ],
   "source": [
    "# 36. Broadcasting (2D + 1D)\n",
    "import numpy as np\n",
    "arr2d = np.array([[1, 2, 3], [4, 5, 6]])\n",
    "arr1d = np.array([10, 20, 30])\n",
    "print(\"21:\\n\", arr2d + arr1d)\n"
   ]
  },
  {
   "cell_type": "code",
   "execution_count": 37,
   "id": "b0b8e017-2b3a-4cc3-9e5f-9453ad7f786f",
   "metadata": {},
   "outputs": [
    {
     "name": "stdout",
     "output_type": "stream",
     "text": [
      "22 Values: [1 2 3] Counts: [1 2 3]\n"
     ]
    }
   ],
   "source": [
    "# 37. Unique values and counts\n",
    "import numpy as np\n",
    "arr = np.array([1, 2, 2, 3, 3, 3])\n",
    "vals, counts = np.unique(arr, return_counts=True)\n",
    "print(\"22 Values:\", vals, \"Counts:\", counts)\n"
   ]
  },
  {
   "cell_type": "code",
   "execution_count": 38,
   "id": "b2222e11-b86c-4264-88a5-6c738ce493c8",
   "metadata": {},
   "outputs": [
    {
     "name": "stdout",
     "output_type": "stream",
     "text": [
      "23: [[1. 1.]\n",
      " [1. 1.]]\n"
     ]
    }
   ],
   "source": [
    "# 38. Pearson correlation coefficient\n",
    "import numpy as np\n",
    "x = np.array([1, 2, 3, 4, 5])\n",
    "y = np.array([2, 4, 6, 8, 10])\n",
    "print(\"23:\", np.corrcoef(x, y))\n"
   ]
  },
  {
   "cell_type": "code",
   "execution_count": 39,
   "id": "80536800-8ec3-4f92-95b0-9eab69b86567",
   "metadata": {},
   "outputs": [
    {
     "name": "stdout",
     "output_type": "stream",
     "text": [
      "24: [1.  1.5 2.5 3.5 4. ]\n"
     ]
    }
   ],
   "source": [
    "# 39. Numerical gradient of 1D array\n",
    "import numpy as np\n",
    "arr = np.array([1, 2, 4, 7, 11])\n",
    "print(\"24:\", np.gradient(arr))\n"
   ]
  },
  {
   "cell_type": "code",
   "execution_count": 40,
   "id": "54e91920-faa6-4a49-8293-9629cf1a4c4b",
   "metadata": {},
   "outputs": [
    {
     "name": "stdout",
     "output_type": "stream",
     "text": [
      "25 Matrix:\n",
      " [[7 9 3]\n",
      " [3 8 3]\n",
      " [3 6 9]]\n",
      "U:\n",
      " [[-0.64197599  0.55084973  0.53332111]\n",
      " [-0.49971074  0.22695392 -0.83593128]\n",
      " [-0.58151183 -0.80315409  0.12956655]]\n",
      "S: [17.6292215   5.68382772  1.97601915]\n",
      "Vt:\n",
      " [[-0.43890195 -0.75241784 -0.49115423]\n",
      " [ 0.3742808   0.34384476 -0.86121116]\n",
      " [ 0.81687145 -0.56181685  0.13070142]]\n"
     ]
    }
   ],
   "source": [
    "# 40. SVD of random 3×3 matrix\n",
    "import numpy as np\n",
    "mat = np.random.randint(1, 10, (3, 3))\n",
    "U, S, Vt = np.linalg.svd(mat)\n",
    "print(\"25 Matrix:\\n\", mat)\n",
    "print(\"U:\\n\", U)\n",
    "print(\"S:\", S)\n",
    "print(\"Vt:\\n\", Vt)"
   ]
  }
 ],
 "metadata": {
  "kernelspec": {
   "display_name": "Python [conda env:base] *",
   "language": "python",
   "name": "conda-base-py"
  },
  "language_info": {
   "codemirror_mode": {
    "name": "ipython",
    "version": 3
   },
   "file_extension": ".py",
   "mimetype": "text/x-python",
   "name": "python",
   "nbconvert_exporter": "python",
   "pygments_lexer": "ipython3",
   "version": "3.13.5"
  }
 },
 "nbformat": 4,
 "nbformat_minor": 5
}
